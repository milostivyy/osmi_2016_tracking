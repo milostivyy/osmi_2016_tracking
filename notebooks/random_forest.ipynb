{
 "cells": [
  {
   "cell_type": "code",
   "execution_count": 50,
   "metadata": {},
   "outputs": [],
   "source": [
    "# Import dependencies\n",
    "import pandas as pd\n",
    "from sklearn.ensemble import RandomForestClassifier\n",
    "from sklearn.preprocessing import StandardScaler,OneHotEncoder\n",
    "from sklearn.model_selection import train_test_split\n",
    "from sklearn.metrics import confusion_matrix, accuracy_score, classification_report\n",
    "from sqlalchemy import create_engine\n",
    "from sklearn.compose import ColumnTransformer"
   ]
  },
  {
   "cell_type": "code",
   "execution_count": 51,
   "metadata": {},
   "outputs": [],
   "source": [
    "# Read the data into a Pandas dataframe\n",
    "mental_df = pd.read_csv('final_after_encode.csv')"
   ]
  },
  {
   "cell_type": "code",
   "execution_count": 52,
   "metadata": {},
   "outputs": [],
   "source": [
    "# Define the target set.\n",
    "y = mental_df[\"If so, what condition(s) were you diagnosed with?_anxiety disorder (generalized, social, phobia, etc)|mood disorder (depression, bipolar disorder, etc)\"]\n",
    "# Define the features set.\n",
    "X = mental_df[[\"Are you self-employed?\", \"Do you work remotely?_always\", \"Do you work remotely?_never\", \"Do you work remotely?_sometimes\", \"Have you had a mental health disorder in the past?_maybe\", \"Have you had a mental health disorder in the past?_no\", \"Have you had a mental health disorder in the past?_yes\", \"Do you believe your productivity is ever affected by a mental health issue?_no\", \"Do you believe your productivity is ever affected by a mental health issue?_not applicable to me\", \"Do you believe your productivity is ever affected by a mental health issue?_unsure\", \"Do you believe your productivity is ever affected by a mental health issue?_yes\", \"Do you believe your productivity is ever affected by a mental health issue?_0\", \"Do you have a family history of mental illness?_i don't know\", \"Do you have a family history of mental illness?_no\", \"Do you have a family history of mental illness?_yes\", \"do you feel comfortable in your working environment?_0\", \"do you feel comfortable in your working environment?_maybe\", \"do you feel comfortable in your working environment?_no\", \"do you feel comfortable in your working environment?_yes\", \"Do you feel that your organisation takes mental health as seriously as physical health?_0\", \"Do you feel that your organisation takes mental health as seriously as physical health?_i don't know\", \"Do you feel that your organisation takes mental health as seriously as physical health?_no\", \"Do you feel that your organisation takes mental health as seriously as physical health?_yes\", \"Have you observed or experienced an unsupportive or badly handled response to an issue in your current workplace?_0\", \"Have you observed or experienced an unsupportive or badly handled response to an issue in your current workplace?_maybe/not sure\", \"Have you observed or experienced an unsupportive or badly handled response to an issue in your current workplace?_no\", \"Have you observed or experienced an unsupportive or badly handled response to an issue in your current workplace?_yes, i experienced\", \"Have you observed or experienced an unsupportive or badly handled response to an issue in your current workplace?_yes, i observed\", \"are you stressed about your career?_maybe\", \"are you stressed about your career?_no, i don't think it would\", \"are you stressed about your career?_no, it has not\", \"are you stressed about your career?_yes, i think it would\", \"are you stressed about your career?_yes, it has\", \"Have you ever sought treatment for a mental health issue from a mental health professional?\", \"How willing would you be to share with friends and family about your work stress?_neutral\", \"How willing would you be to share with friends and family about your work stress?_not applicable to me (i do not have a mental illness)\", \"How willing would you be to share with friends and family about your work stress?_not open at all\", \"How willing would you be to share with friends and family about your work stress?_somewhat not open\", \"How willing would you be to share with friends and family about your work stress?_somewhat open\"]]"
   ]
  },
  {
   "cell_type": "code",
   "execution_count": 53,
   "metadata": {},
   "outputs": [],
   "source": [
    "# Splitting into Train and Test sets.\n",
    "X_train, X_test, y_train, y_test = train_test_split(X, y, random_state=78)"
   ]
  },
  {
   "cell_type": "code",
   "execution_count": 54,
   "metadata": {},
   "outputs": [],
   "source": [
    "# Create a random forest classifier.\n",
    "rf_model = RandomForestClassifier(n_estimators=128, random_state=78)"
   ]
  },
  {
   "cell_type": "code",
   "execution_count": 55,
   "metadata": {},
   "outputs": [],
   "source": [
    "# Fitting the model\n",
    "rf_model = rf_model.fit(X_train, y_train)"
   ]
  },
  {
   "cell_type": "code",
   "execution_count": 56,
   "metadata": {},
   "outputs": [
    {
     "data": {
      "text/plain": [
       "array([0., 0., 0., 0., 0., 0., 0., 0., 0., 0., 0., 0., 0., 0., 0., 0., 0.,\n",
       "       0., 0., 0., 0., 0., 0., 0., 0., 0., 0., 0., 0., 0., 0., 0., 0., 0.,\n",
       "       0., 0., 0., 1., 0., 0., 0., 0., 0., 0., 0., 0., 0., 0., 0., 0., 0.,\n",
       "       0., 0., 0., 0., 0., 0., 1., 0., 0., 0., 0., 0., 0., 0., 0., 0., 1.,\n",
       "       0., 0., 0., 0., 0., 0., 0., 0., 0., 0., 0., 0., 0., 0., 0., 0., 0.,\n",
       "       0., 0., 0., 0., 0., 0., 0., 0., 0., 0., 0., 0., 0., 0., 0., 0., 0.,\n",
       "       0., 0., 0., 0., 0., 0., 0., 0., 0., 0., 0., 0., 0., 0., 0., 0., 0.,\n",
       "       0., 0., 0., 0., 0., 0., 0., 0., 0., 0., 0., 0., 0., 0., 0., 0., 0.,\n",
       "       0., 0., 0., 0., 0., 0., 0., 0., 0., 0., 0., 0., 0., 0., 0., 0., 0.,\n",
       "       0., 0., 0., 0., 0., 0., 0., 0., 0., 0., 0., 0., 0., 0., 0., 0., 0.,\n",
       "       0., 0., 0., 0., 0., 0., 0., 0., 0., 0., 0., 1., 0., 0., 0., 0., 0.,\n",
       "       0., 0., 0., 0., 0., 0., 0., 0., 0., 0., 0., 0., 0., 0., 0., 0., 0.,\n",
       "       1., 0., 0., 0., 0., 0., 0., 0., 1., 0., 0., 0., 0., 0., 0., 0., 0.,\n",
       "       1., 0., 0., 0., 0., 0., 0., 0., 0., 0., 0., 0., 0., 0., 0., 0., 0.,\n",
       "       0., 0., 0., 0., 0., 0., 0., 0., 0., 1., 0., 0., 0., 0., 0., 0., 0.,\n",
       "       0., 0., 0., 1., 0., 0., 0., 0., 0., 0., 0., 0., 0., 0., 0., 0., 0.,\n",
       "       0., 0., 0., 0., 0., 0., 0., 0., 0., 0., 0., 0., 0., 0., 0., 0., 0.,\n",
       "       0., 0., 0., 0., 0., 0., 1., 0., 0., 0., 0., 0., 0., 0., 0., 0., 0.,\n",
       "       0., 0., 0., 0., 0., 0., 0., 0., 0., 0., 0., 0., 0., 1., 0., 0., 0.,\n",
       "       0., 0., 0., 0., 0., 1., 0., 0., 0., 0., 0., 0., 0., 0., 0., 0., 0.,\n",
       "       0., 0., 0., 0., 0., 0., 0., 0., 0., 0., 0., 0., 0., 0., 0., 0., 1.,\n",
       "       0., 0.])"
      ]
     },
     "execution_count": 56,
     "metadata": {},
     "output_type": "execute_result"
    }
   ],
   "source": [
    "# Making predictions using the testing data.\n",
    "predictions = rf_model.predict(X_test)\n",
    "predictions"
   ]
  },
  {
   "cell_type": "code",
   "execution_count": 57,
   "metadata": {},
   "outputs": [
    {
     "data": {
      "text/html": [
       "<div>\n",
       "<style scoped>\n",
       "    .dataframe tbody tr th:only-of-type {\n",
       "        vertical-align: middle;\n",
       "    }\n",
       "\n",
       "    .dataframe tbody tr th {\n",
       "        vertical-align: top;\n",
       "    }\n",
       "\n",
       "    .dataframe thead th {\n",
       "        text-align: right;\n",
       "    }\n",
       "</style>\n",
       "<table border=\"1\" class=\"dataframe\">\n",
       "  <thead>\n",
       "    <tr style=\"text-align: right;\">\n",
       "      <th></th>\n",
       "      <th>Predicted 0</th>\n",
       "      <th>Predicted 1</th>\n",
       "    </tr>\n",
       "  </thead>\n",
       "  <tbody>\n",
       "    <tr>\n",
       "      <th>Actual 0</th>\n",
       "      <td>318</td>\n",
       "      <td>11</td>\n",
       "    </tr>\n",
       "    <tr>\n",
       "      <th>Actual 1</th>\n",
       "      <td>28</td>\n",
       "      <td>2</td>\n",
       "    </tr>\n",
       "  </tbody>\n",
       "</table>\n",
       "</div>"
      ],
      "text/plain": [
       "          Predicted 0  Predicted 1\n",
       "Actual 0          318           11\n",
       "Actual 1           28            2"
      ]
     },
     "execution_count": 57,
     "metadata": {},
     "output_type": "execute_result"
    }
   ],
   "source": [
    "# Calculating the confusion matrix.\n",
    "cm = confusion_matrix(y_test, predictions)\n",
    "\n",
    "# Create a DataFrame from the confusion matrix.\n",
    "cm_df = pd.DataFrame(\n",
    "cm, index=[\"Actual 0\", \"Actual 1\"], columns=[\"Predicted 0\", \"Predicted 1\"])\n",
    "\n",
    "cm_df"
   ]
  },
  {
   "cell_type": "code",
   "execution_count": 58,
   "metadata": {},
   "outputs": [],
   "source": [
    "# Calculating the accuracy score.\n",
    "acc_score = accuracy_score(y_test, predictions)"
   ]
  },
  {
   "cell_type": "code",
   "execution_count": 59,
   "metadata": {},
   "outputs": [
    {
     "name": "stdout",
     "output_type": "stream",
     "text": [
      "Confusion Matrix\n"
     ]
    },
    {
     "data": {
      "text/html": [
       "<div>\n",
       "<style scoped>\n",
       "    .dataframe tbody tr th:only-of-type {\n",
       "        vertical-align: middle;\n",
       "    }\n",
       "\n",
       "    .dataframe tbody tr th {\n",
       "        vertical-align: top;\n",
       "    }\n",
       "\n",
       "    .dataframe thead th {\n",
       "        text-align: right;\n",
       "    }\n",
       "</style>\n",
       "<table border=\"1\" class=\"dataframe\">\n",
       "  <thead>\n",
       "    <tr style=\"text-align: right;\">\n",
       "      <th></th>\n",
       "      <th>Predicted 0</th>\n",
       "      <th>Predicted 1</th>\n",
       "    </tr>\n",
       "  </thead>\n",
       "  <tbody>\n",
       "    <tr>\n",
       "      <th>Actual 0</th>\n",
       "      <td>318</td>\n",
       "      <td>11</td>\n",
       "    </tr>\n",
       "    <tr>\n",
       "      <th>Actual 1</th>\n",
       "      <td>28</td>\n",
       "      <td>2</td>\n",
       "    </tr>\n",
       "  </tbody>\n",
       "</table>\n",
       "</div>"
      ],
      "text/plain": [
       "          Predicted 0  Predicted 1\n",
       "Actual 0          318           11\n",
       "Actual 1           28            2"
      ]
     },
     "metadata": {},
     "output_type": "display_data"
    },
    {
     "name": "stdout",
     "output_type": "stream",
     "text": [
      "Accuracy Score : 0.8913649025069638\n",
      "Classification Report\n",
      "              precision    recall  f1-score   support\n",
      "\n",
      "         0.0       0.92      0.97      0.94       329\n",
      "         1.0       0.15      0.07      0.09        30\n",
      "\n",
      "    accuracy                           0.89       359\n",
      "   macro avg       0.54      0.52      0.52       359\n",
      "weighted avg       0.86      0.89      0.87       359\n",
      "\n"
     ]
    }
   ],
   "source": [
    "# Displaying results\n",
    "print(\"Confusion Matrix\")\n",
    "display(cm_df)\n",
    "print(f\"Accuracy Score : {acc_score}\")\n",
    "print(\"Classification Report\")\n",
    "print(classification_report(y_test, predictions))"
   ]
  },
  {
   "cell_type": "code",
   "execution_count": 60,
   "metadata": {},
   "outputs": [
    {
     "data": {
      "text/plain": [
       "array([0.00545667, 0.03348899, 0.03346446, 0.0434212 , 0.01340029,\n",
       "       0.0196678 , 0.04645545, 0.00415636, 0.00017862, 0.00376785,\n",
       "       0.01023123, 0.00499056, 0.02775443, 0.02398435, 0.03554997,\n",
       "       0.00566108, 0.03909794, 0.03287894, 0.02558247, 0.00540891,\n",
       "       0.03120712, 0.03528425, 0.03368205, 0.00887293, 0.04217581,\n",
       "       0.04300775, 0.03481669, 0.0314641 , 0.04091291, 0.01449148,\n",
       "       0.01195248, 0.04305335, 0.02784359, 0.04449938, 0.02244029,\n",
       "       0.00354887, 0.01548735, 0.03361171, 0.06705032])"
      ]
     },
     "execution_count": 60,
     "metadata": {},
     "output_type": "execute_result"
    }
   ],
   "source": [
    "# Calculate feature importance in the Random Forest model.\n",
    "importances = rf_model.feature_importances_\n",
    "importances"
   ]
  },
  {
   "cell_type": "code",
   "execution_count": 61,
   "metadata": {},
   "outputs": [
    {
     "data": {
      "text/plain": [
       "[(0.06705032304534621,\n",
       "  'How willing would you be to share with friends and family about your work stress?_somewhat open'),\n",
       " (0.0464554528947043,\n",
       "  'Have you had a mental health disorder in the past?_yes'),\n",
       " (0.04449938419716179,\n",
       "  'Have you ever sought treatment for a mental health issue from a mental health professional?'),\n",
       " (0.043421197036973225, 'Do you work remotely?_sometimes'),\n",
       " (0.043053354741269145,\n",
       "  'are you stressed about your career?_yes, i think it would'),\n",
       " (0.0430077501529369,\n",
       "  'Have you observed or experienced an unsupportive or badly handled response to an issue in your current workplace?_no'),\n",
       " (0.04217581000743199,\n",
       "  'Have you observed or experienced an unsupportive or badly handled response to an issue in your current workplace?_maybe/not sure'),\n",
       " (0.04091291190986767, 'are you stressed about your career?_maybe'),\n",
       " (0.03909794476635362,\n",
       "  'do you feel comfortable in your working environment?_maybe'),\n",
       " (0.035549970604861536, 'Do you have a family history of mental illness?_yes'),\n",
       " (0.03528425311662701,\n",
       "  'Do you feel that your organisation takes mental health as seriously as physical health?_no'),\n",
       " (0.03481668658536984,\n",
       "  'Have you observed or experienced an unsupportive or badly handled response to an issue in your current workplace?_yes, i experienced'),\n",
       " (0.033682046753456006,\n",
       "  'Do you feel that your organisation takes mental health as seriously as physical health?_yes'),\n",
       " (0.033611706754049786,\n",
       "  'How willing would you be to share with friends and family about your work stress?_somewhat not open'),\n",
       " (0.03348898787377841, 'Do you work remotely?_always'),\n",
       " (0.033464460295572235, 'Do you work remotely?_never'),\n",
       " (0.03287893962711891,\n",
       "  'do you feel comfortable in your working environment?_no'),\n",
       " (0.03146410203644048,\n",
       "  'Have you observed or experienced an unsupportive or badly handled response to an issue in your current workplace?_yes, i observed'),\n",
       " (0.03120711821727445,\n",
       "  \"Do you feel that your organisation takes mental health as seriously as physical health?_i don't know\"),\n",
       " (0.02784359026869537, 'are you stressed about your career?_yes, it has'),\n",
       " (0.027754427786646618,\n",
       "  \"Do you have a family history of mental illness?_i don't know\"),\n",
       " (0.025582468960818904,\n",
       "  'do you feel comfortable in your working environment?_yes'),\n",
       " (0.023984345150087478, 'Do you have a family history of mental illness?_no'),\n",
       " (0.02244029023341249,\n",
       "  'How willing would you be to share with friends and family about your work stress?_neutral'),\n",
       " (0.019667803690510095,\n",
       "  'Have you had a mental health disorder in the past?_no'),\n",
       " (0.015487350393912929,\n",
       "  'How willing would you be to share with friends and family about your work stress?_not open at all'),\n",
       " (0.014491476456074934,\n",
       "  \"are you stressed about your career?_no, i don't think it would\"),\n",
       " (0.013400291779586303,\n",
       "  'Have you had a mental health disorder in the past?_maybe'),\n",
       " (0.011952481305748029, 'are you stressed about your career?_no, it has not'),\n",
       " (0.010231226223310375,\n",
       "  'Do you believe your productivity is ever affected by a mental health issue?_yes'),\n",
       " (0.008872931053204264,\n",
       "  'Have you observed or experienced an unsupportive or badly handled response to an issue in your current workplace?_0'),\n",
       " (0.00566107875983397,\n",
       "  'do you feel comfortable in your working environment?_0'),\n",
       " (0.005456668713688634, 'Are you self-employed?'),\n",
       " (0.005408914948751846,\n",
       "  'Do you feel that your organisation takes mental health as seriously as physical health?_0'),\n",
       " (0.004990555077609355,\n",
       "  'Do you believe your productivity is ever affected by a mental health issue?_0'),\n",
       " (0.004156362433754664,\n",
       "  'Do you believe your productivity is ever affected by a mental health issue?_no'),\n",
       " (0.0037678469916165177,\n",
       "  'Do you believe your productivity is ever affected by a mental health issue?_unsure'),\n",
       " (0.003548872116970034,\n",
       "  'How willing would you be to share with friends and family about your work stress?_not applicable to me (i do not have a mental illness)'),\n",
       " (0.0001786170391734525,\n",
       "  'Do you believe your productivity is ever affected by a mental health issue?_not applicable to me')]"
      ]
     },
     "execution_count": 61,
     "metadata": {},
     "output_type": "execute_result"
    }
   ],
   "source": [
    "# We can sort the features by their importance.\n",
    "sorted(zip(rf_model.feature_importances_, X.columns), reverse=True)"
   ]
  },
  {
   "cell_type": "code",
   "execution_count": 62,
   "metadata": {},
   "outputs": [
    {
     "name": "stdout",
     "output_type": "stream",
     "text": [
      "Test score: 89.14 %\n"
     ]
    }
   ],
   "source": [
    "# save our model to use later\n",
    "import pickle\n",
    "\n",
    "# Save to file in the current working directory\n",
    "pkl_filename = \"random_forest_pickle_model.pkl\"\n",
    "with open(pkl_filename, 'wb') as file:\n",
    "    pickle.dump(rf_model, file)\n",
    "\n",
    "# Load from file\n",
    "with open(pkl_filename, 'rb') as file:\n",
    "    pickle_model = pickle.load(file)\n",
    "    \n",
    "# Calculate the accuracy score and predict target values\n",
    "score = pickle_model.score(X_test, y_test)\n",
    "print(\"Test score: {0:.2f} %\".format(100 * score))\n",
    "Ypredict = pickle_model.predict(X_test)"
   ]
  },
  {
   "cell_type": "code",
   "execution_count": 63,
   "metadata": {},
   "outputs": [],
   "source": [
    "import joblib"
   ]
  },
  {
   "cell_type": "code",
   "execution_count": 64,
   "metadata": {},
   "outputs": [
    {
     "name": "stdout",
     "output_type": "stream",
     "text": [
      "Model size: 3658025 bytes\n"
     ]
    }
   ],
   "source": [
    "# Save the trained model to disk\n",
    "joblib.dump(rf_model, 'rf_model.joblib')\n",
    "\n",
    "# Check the size of the saved model file\n",
    "import os\n",
    "model_size = os.path.getsize('rf_model.joblib')\n",
    "print(f\"Model size: {model_size} bytes\")"
   ]
  }
 ],
 "metadata": {
  "kernelspec": {
   "display_name": "Python 3",
   "language": "python",
   "name": "python3"
  },
  "language_info": {
   "codemirror_mode": {
    "name": "ipython",
    "version": 3
   },
   "file_extension": ".py",
   "mimetype": "text/x-python",
   "name": "python",
   "nbconvert_exporter": "python",
   "pygments_lexer": "ipython3",
   "version": "3.10.4"
  },
  "orig_nbformat": 4
 },
 "nbformat": 4,
 "nbformat_minor": 2
}
