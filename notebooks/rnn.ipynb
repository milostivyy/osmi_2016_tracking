{
 "cells": [
  {
   "cell_type": "code",
   "execution_count": 1,
   "metadata": {},
   "outputs": [
    {
     "name": "stderr",
     "output_type": "stream",
     "text": [
      "2023-05-03 09:27:03.626875: I tensorflow/tsl/cuda/cudart_stub.cc:28] Could not find cuda drivers on your machine, GPU will not be used.\n",
      "2023-05-03 09:27:05.349750: I tensorflow/tsl/cuda/cudart_stub.cc:28] Could not find cuda drivers on your machine, GPU will not be used.\n",
      "2023-05-03 09:27:05.373897: I tensorflow/core/platform/cpu_feature_guard.cc:182] This TensorFlow binary is optimized to use available CPU instructions in performance-critical operations.\n",
      "To enable the following instructions: AVX2 AVX512F FMA, in other operations, rebuild TensorFlow with the appropriate compiler flags.\n",
      "2023-05-03 09:27:10.269913: W tensorflow/compiler/tf2tensorrt/utils/py_utils.cc:38] TF-TRT Warning: Could not find TensorRT\n"
     ]
    }
   ],
   "source": [
    "import pandas as pd\n",
    "import numpy as np\n",
    "from keras.models import Sequential\n",
    "from keras.layers import Dense, LSTM, Embedding, Dropout\n",
    "from keras.preprocessing.text import Tokenizer\n",
    "from sklearn.model_selection import train_test_split\n",
    "from tensorflow.keras.models import Sequential\n",
    "from tensorflow.keras.layers import LSTM, Dense, Dropout, Embedding\n",
    "from tensorflow.keras.optimizers import Adam\n",
    "from tensorflow.keras.preprocessing.sequence import pad_sequences\n",
    "from tensorflow.keras.preprocessing.text import Tokenizer\n",
    "from sklearn.model_selection import train_test_split\n",
    "import numpy as np\n"
   ]
  },
  {
   "cell_type": "code",
   "execution_count": 2,
   "metadata": {},
   "outputs": [],
   "source": [
    "# Load the dataset\n",
    "mental_df = pd.read_csv('final_after_encode.csv')"
   ]
  },
  {
   "cell_type": "code",
   "execution_count": 3,
   "metadata": {},
   "outputs": [],
   "source": [
    "# Define the target set.\n",
    "y = mental_df[\"If so, what condition(s) were you diagnosed with?_anxiety disorder (generalized, social, phobia, etc)|mood disorder (depression, bipolar disorder, etc)\"]\n",
    "# Define the features set.\n",
    "X = mental_df[[\"Are you self-employed?\", \"Do you work remotely?_always\", \"Do you work remotely?_never\", \"Do you work remotely?_sometimes\", \"Have you had a mental health disorder in the past?_maybe\", \"Have you had a mental health disorder in the past?_no\", \"Have you had a mental health disorder in the past?_yes\", \"Do you believe your productivity is ever affected by a mental health issue?_no\", \"Do you believe your productivity is ever affected by a mental health issue?_not applicable to me\", \"Do you believe your productivity is ever affected by a mental health issue?_unsure\", \"Do you believe your productivity is ever affected by a mental health issue?_yes\", \"Do you believe your productivity is ever affected by a mental health issue?_0\", \"Do you have a family history of mental illness?_i don't know\", \"Do you have a family history of mental illness?_no\", \"Do you have a family history of mental illness?_yes\", \"do you feel comfortable in your working environment?_0\", \"do you feel comfortable in your working environment?_maybe\", \"do you feel comfortable in your working environment?_no\", \"do you feel comfortable in your working environment?_yes\", \"Do you feel that your organisation takes mental health as seriously as physical health?_0\", \"Do you feel that your organisation takes mental health as seriously as physical health?_i don't know\", \"Do you feel that your organisation takes mental health as seriously as physical health?_no\", \"Do you feel that your organisation takes mental health as seriously as physical health?_yes\", \"Have you observed or experienced an unsupportive or badly handled response to an issue in your current workplace?_0\", \"Have you observed or experienced an unsupportive or badly handled response to an issue in your current workplace?_maybe/not sure\", \"Have you observed or experienced an unsupportive or badly handled response to an issue in your current workplace?_no\", \"Have you observed or experienced an unsupportive or badly handled response to an issue in your current workplace?_yes, i experienced\", \"Have you observed or experienced an unsupportive or badly handled response to an issue in your current workplace?_yes, i observed\", \"are you stressed about your career?_maybe\", \"are you stressed about your career?_no, i don't think it would\", \"are you stressed about your career?_no, it has not\", \"are you stressed about your career?_yes, i think it would\", \"are you stressed about your career?_yes, it has\", \"Have you ever sought treatment for a mental health issue from a mental health professional?\", \"How willing would you be to share with friends and family about your work stress?_neutral\", \"How willing would you be to share with friends and family about your work stress?_not applicable to me (i do not have a mental illness)\", \"How willing would you be to share with friends and family about your work stress?_not open at all\", \"How willing would you be to share with friends and family about your work stress?_somewhat not open\", \"How willing would you be to share with friends and family about your work stress?_somewhat open\"]]"
   ]
  },
  {
   "cell_type": "code",
   "execution_count": 7,
   "metadata": {},
   "outputs": [
    {
     "name": "stdout",
     "output_type": "stream",
     "text": [
      "(1433, 39)\n",
      "[0 1]\n",
      "Epoch 1/10\n"
     ]
    },
    {
     "name": "stderr",
     "output_type": "stream",
     "text": [
      "2023-05-03 09:27:33.118270: I tensorflow/core/common_runtime/executor.cc:1197] [/device:CPU:0] (DEBUG INFO) Executor start aborting (this does not indicate an error and you can ignore this message): INVALID_ARGUMENT: You must feed a value for placeholder tensor 'gradients/split_2_grad/concat/split_2/split_dim' with dtype int32\n",
      "\t [[{{node gradients/split_2_grad/concat/split_2/split_dim}}]]\n",
      "2023-05-03 09:27:33.120069: I tensorflow/core/common_runtime/executor.cc:1197] [/device:CPU:0] (DEBUG INFO) Executor start aborting (this does not indicate an error and you can ignore this message): INVALID_ARGUMENT: You must feed a value for placeholder tensor 'gradients/split_grad/concat/split/split_dim' with dtype int32\n",
      "\t [[{{node gradients/split_grad/concat/split/split_dim}}]]\n",
      "2023-05-03 09:27:33.121998: I tensorflow/core/common_runtime/executor.cc:1197] [/device:CPU:0] (DEBUG INFO) Executor start aborting (this does not indicate an error and you can ignore this message): INVALID_ARGUMENT: You must feed a value for placeholder tensor 'gradients/split_1_grad/concat/split_1/split_dim' with dtype int32\n",
      "\t [[{{node gradients/split_1_grad/concat/split_1/split_dim}}]]\n",
      "2023-05-03 09:27:33.451568: I tensorflow/core/common_runtime/executor.cc:1197] [/device:CPU:0] (DEBUG INFO) Executor start aborting (this does not indicate an error and you can ignore this message): INVALID_ARGUMENT: You must feed a value for placeholder tensor 'gradients/split_2_grad/concat/split_2/split_dim' with dtype int32\n",
      "\t [[{{node gradients/split_2_grad/concat/split_2/split_dim}}]]\n",
      "2023-05-03 09:27:33.453664: I tensorflow/core/common_runtime/executor.cc:1197] [/device:CPU:0] (DEBUG INFO) Executor start aborting (this does not indicate an error and you can ignore this message): INVALID_ARGUMENT: You must feed a value for placeholder tensor 'gradients/split_grad/concat/split/split_dim' with dtype int32\n",
      "\t [[{{node gradients/split_grad/concat/split/split_dim}}]]\n",
      "2023-05-03 09:27:33.455515: I tensorflow/core/common_runtime/executor.cc:1197] [/device:CPU:0] (DEBUG INFO) Executor start aborting (this does not indicate an error and you can ignore this message): INVALID_ARGUMENT: You must feed a value for placeholder tensor 'gradients/split_1_grad/concat/split_1/split_dim' with dtype int32\n",
      "\t [[{{node gradients/split_1_grad/concat/split_1/split_dim}}]]\n",
      "2023-05-03 09:27:34.154652: I tensorflow/core/common_runtime/executor.cc:1197] [/device:CPU:0] (DEBUG INFO) Executor start aborting (this does not indicate an error and you can ignore this message): INVALID_ARGUMENT: You must feed a value for placeholder tensor 'gradients/split_2_grad/concat/split_2/split_dim' with dtype int32\n",
      "\t [[{{node gradients/split_2_grad/concat/split_2/split_dim}}]]\n",
      "2023-05-03 09:27:34.156756: I tensorflow/core/common_runtime/executor.cc:1197] [/device:CPU:0] (DEBUG INFO) Executor start aborting (this does not indicate an error and you can ignore this message): INVALID_ARGUMENT: You must feed a value for placeholder tensor 'gradients/split_grad/concat/split/split_dim' with dtype int32\n",
      "\t [[{{node gradients/split_grad/concat/split/split_dim}}]]\n",
      "2023-05-03 09:27:34.158427: I tensorflow/core/common_runtime/executor.cc:1197] [/device:CPU:0] (DEBUG INFO) Executor start aborting (this does not indicate an error and you can ignore this message): INVALID_ARGUMENT: You must feed a value for placeholder tensor 'gradients/split_1_grad/concat/split_1/split_dim' with dtype int32\n",
      "\t [[{{node gradients/split_1_grad/concat/split_1/split_dim}}]]\n"
     ]
    },
    {
     "name": "stdout",
     "output_type": "stream",
     "text": [
      "28/29 [===========================>..] - ETA: 0s - loss: 0.4872 - accuracy: 0.8973"
     ]
    },
    {
     "name": "stderr",
     "output_type": "stream",
     "text": [
      "2023-05-03 09:27:35.918982: I tensorflow/core/common_runtime/executor.cc:1197] [/device:CPU:0] (DEBUG INFO) Executor start aborting (this does not indicate an error and you can ignore this message): INVALID_ARGUMENT: You must feed a value for placeholder tensor 'gradients/split_2_grad/concat/split_2/split_dim' with dtype int32\n",
      "\t [[{{node gradients/split_2_grad/concat/split_2/split_dim}}]]\n",
      "2023-05-03 09:27:35.920972: I tensorflow/core/common_runtime/executor.cc:1197] [/device:CPU:0] (DEBUG INFO) Executor start aborting (this does not indicate an error and you can ignore this message): INVALID_ARGUMENT: You must feed a value for placeholder tensor 'gradients/split_grad/concat/split/split_dim' with dtype int32\n",
      "\t [[{{node gradients/split_grad/concat/split/split_dim}}]]\n",
      "2023-05-03 09:27:35.922404: I tensorflow/core/common_runtime/executor.cc:1197] [/device:CPU:0] (DEBUG INFO) Executor start aborting (this does not indicate an error and you can ignore this message): INVALID_ARGUMENT: You must feed a value for placeholder tensor 'gradients/split_1_grad/concat/split_1/split_dim' with dtype int32\n",
      "\t [[{{node gradients/split_1_grad/concat/split_1/split_dim}}]]\n"
     ]
    },
    {
     "name": "stdout",
     "output_type": "stream",
     "text": [
      "29/29 [==============================] - 3s 36ms/step - loss: 0.4810 - accuracy: 0.8985 - val_loss: 0.3442 - val_accuracy: 0.8957\n",
      "Epoch 2/10\n",
      "29/29 [==============================] - 0s 16ms/step - loss: 0.3288 - accuracy: 0.8985 - val_loss: 0.3387 - val_accuracy: 0.8957\n",
      "Epoch 3/10\n",
      "29/29 [==============================] - 0s 15ms/step - loss: 0.3305 - accuracy: 0.8985 - val_loss: 0.3358 - val_accuracy: 0.8957\n",
      "Epoch 4/10\n",
      "29/29 [==============================] - 0s 15ms/step - loss: 0.3296 - accuracy: 0.8985 - val_loss: 0.3352 - val_accuracy: 0.8957\n",
      "Epoch 5/10\n",
      "29/29 [==============================] - 1s 18ms/step - loss: 0.3302 - accuracy: 0.8985 - val_loss: 0.3353 - val_accuracy: 0.8957\n",
      "Epoch 6/10\n",
      "29/29 [==============================] - 0s 17ms/step - loss: 0.3297 - accuracy: 0.8985 - val_loss: 0.3354 - val_accuracy: 0.8957\n",
      "Epoch 7/10\n",
      "29/29 [==============================] - 0s 16ms/step - loss: 0.3292 - accuracy: 0.8985 - val_loss: 0.3349 - val_accuracy: 0.8957\n",
      "Epoch 8/10\n",
      "29/29 [==============================] - 0s 15ms/step - loss: 0.3308 - accuracy: 0.8985 - val_loss: 0.3346 - val_accuracy: 0.8957\n",
      "Epoch 9/10\n",
      "29/29 [==============================] - 0s 16ms/step - loss: 0.3291 - accuracy: 0.8985 - val_loss: 0.3346 - val_accuracy: 0.8957\n",
      "Epoch 10/10\n",
      "29/29 [==============================] - 0s 16ms/step - loss: 0.3315 - accuracy: 0.8985 - val_loss: 0.3346 - val_accuracy: 0.8957\n",
      "9/9 [==============================] - 0s 5ms/step - loss: 0.3567 - accuracy: 0.8850\n",
      "Test loss: 0.3567405045032501\n",
      "Test accuracy: 0.8850173950195312\n"
     ]
    }
   ],
   "source": [
    "# Reset the index for both X and y dataframes\n",
    "X = X.reset_index(drop=True)\n",
    "y = y.reset_index(drop=True)\n",
    "\n",
    "# Check the shape of the X dataframe\n",
    "print(X.shape)\n",
    "\n",
    "# Ensure that the values in the y dataframe are compatible with your model\n",
    "print(y.unique())\n",
    "\n",
    "# Convert the y values to integers\n",
    "y = y.astype(int)\n",
    "\n",
    "# Split the data into train and test sets\n",
    "X_train, X_test, y_train, y_test = train_test_split(X, y, test_size=0.2, random_state=42)\n",
    "\n",
    "# Define the RNN model\n",
    "model = Sequential()\n",
    "model.add(LSTM(units=64, input_shape=(X_train.shape[1], 1)))\n",
    "model.add(Dense(units=1, activation='sigmoid'))\n",
    "\n",
    "# Compile the model\n",
    "model.compile(loss='binary_crossentropy', optimizer='adam', metrics=['accuracy'])\n",
    "\n",
    "# Train the model\n",
    "model.fit(X_train.values.reshape(X_train.shape[0], X_train.shape[1], 1), y_train, epochs=10, batch_size=32, validation_split=0.2)\n",
    "\n",
    "# Evaluate the model\n",
    "loss, accuracy = model.evaluate(X_test.values.reshape(X_test.shape[0], X_test.shape[1], 1), y_test)\n",
    "print('Test loss:', loss)\n",
    "print('Test accuracy:', accuracy)\n"
   ]
  },
  {
   "cell_type": "code",
   "execution_count": 5,
   "metadata": {},
   "outputs": [],
   "source": [
    "import joblib"
   ]
  },
  {
   "cell_type": "code",
   "execution_count": 6,
   "metadata": {},
   "outputs": [
    {
     "name": "stdout",
     "output_type": "stream",
     "text": [
      "Model size: 227766 bytes\n"
     ]
    }
   ],
   "source": [
    "# Save the trained model to disk\n",
    "joblib.dump(model, 'rnn_model.joblib')\n",
    "\n",
    "# Check the size of the saved model file\n",
    "import os\n",
    "model_size = os.path.getsize('rnn_model.joblib')\n",
    "print(f\"Model size: {model_size} bytes\")"
   ]
  },
  {
   "cell_type": "code",
   "execution_count": null,
   "metadata": {},
   "outputs": [],
   "source": []
  }
 ],
 "metadata": {
  "kernelspec": {
   "display_name": "Python 3",
   "language": "python",
   "name": "python3"
  },
  "language_info": {
   "codemirror_mode": {
    "name": "ipython",
    "version": 3
   },
   "file_extension": ".py",
   "mimetype": "text/x-python",
   "name": "python",
   "nbconvert_exporter": "python",
   "pygments_lexer": "ipython3",
   "version": "3.10.4"
  },
  "orig_nbformat": 4
 },
 "nbformat": 4,
 "nbformat_minor": 2
}
